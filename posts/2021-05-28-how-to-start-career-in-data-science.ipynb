{
 "cells": [
  {
   "cell_type": "raw",
   "id": "fd8b549e-2591-4c5c-9b58-b73b59a7041b",
   "metadata": {},
   "source": [
    "---\n",
    "title: \"How to start a career in Data Science\"\n",
    "author: \"Gianluca Rossi\"\n",
    "date: \"2021-05-28\"\n",
    "categories: [deep learning, machine learning, advice]\n",
    "format:\n",
    "    html:\n",
    "        code-fold: true\n",
    "jupyter: python3\n",
    "---"
   ]
  },
  {
   "cell_type": "markdown",
   "id": "89f6ed5f-600a-4b4d-abbc-068453a0e43a",
   "metadata": {},
   "source": [
    "# Intro\n",
    "\n",
    "I've been asked this question many times by young practitioners and recent graduates. \"*What advice would you give to someone starting a career in Data Science?*\". \n",
    "\n",
    "# Fall in love with the process\n",
    "\n",
    "First of all, make sure you have a true passion for Machine Learning. Like in many things, you need to fall in love with the process to ultimately be successful at something. Knowledge and expertise are built day after day and will eventually compound.\n",
    "\n",
    "You need to be curious and have a genuine interest in understanding how things truly work ― you need to embrace [First Principles Thinking](https://fs.blog/2018/04/first-principles/). \n",
    "\n",
    "# Take one great online course, then start competing in Kaggle\n",
    "\n",
    "If you are not sure if Data Science is really something you love, take a semester to complete an excellent online course like [fast.ai](https://www.fast.ai/) and work on one or two [Kaggle](https://www.kaggle.com/) competitions. This should give you first-hand experience of what the job is all about, although not a complete one. \n",
    "\n",
    "fast.ai's [\"Practical Deep Learning for Coders\"](https://course.fast.ai/) and [\"Deep Learning from the Foundations\"](https://course19.fast.ai/part2) are excellent courses.  They strongly emphasize the practical aspect and teach you good practice in building knowledge and being effective.\n",
    "\n",
    "\n",
    "![Fig 1: fast.ai is a non-profit research group focused on deep learning and artificial intelligence.](https://fastpages.fast.ai/images/logo.png)\n",
    "\n",
    "After that, it's time to get your hands dirty and join Kaggle. Kaggle is a large community of Data Science practitioners. The platform organizes Machine Learning competitions, ranging from Computer Vision to Reinforcement Learning.\n",
    "\n",
    "![Fig 2: Kaggle is the world's largest data science community with powerful tools and resources to help you achieve your data science goals.](https://storage.googleapis.com/kaggle-competitions/kaggle/3136/media/kaggle-transparent.svg)\n",
    "\n",
    "My advice is to not get too distracted by the Public Leaderboard. What you're interested in is building knowledge. [Try to make little progress every day](https://fs.blog/2017/06/habits-vs-goals/). It's a long game, and you are here to learn. \n",
    "\n",
    "# Practice over theory\n",
    "\n",
    "One of the biggest mistakes I've seen many beginners make is to spend a disproportionate amount of time studying the theory before beginning to work on their first non-trivial project. This is the wrong way to go about it. The theory is undoubtedly essential, but practice solidifies understanding and makes you ultimately able to build things. This doesn't mean you shouldn't spend time learning the theory. Theory and practice should complement each other.\n",
    "\n",
    "How can you find the right balance between theory and practice? Use your curiosity and First Principle Thinking. Focus on building knowledge. If you don't understand how something works, don't be discouraged. Write some code ― see the excellent keynote from John Rauser at Strata  + Hadoop 2014 ― or search the internet. Learn as you need and make sure that every new concept sits on a mental map of the space."
   ]
  },
  {
   "cell_type": "code",
   "execution_count": 1,
   "id": "81571616-680f-4fc2-851f-83d819110e7d",
   "metadata": {
    "tags": []
   },
   "outputs": [
    {
     "data": {
      "text/html": [
       "<div align=\"center\">\n",
       "    <iframe width=\"560\" height=\"315\"\n",
       "    src=\"https://www.youtube.com/embed/5Dnw46eC-0o\"\n",
       "    </iframe>\n",
       "</div>\n"
      ],
      "text/plain": [
       "<IPython.core.display.HTML object>"
      ]
     },
     "metadata": {},
     "output_type": "display_data"
    }
   ],
   "source": [
    "%%HTML\n",
    "<div align=\"center\">\n",
    "    <iframe width=\"560\" height=\"315\"\n",
    "    src=\"https://www.youtube.com/embed/5Dnw46eC-0o\"\n",
    "    </iframe>\n",
    "</div>"
   ]
  },
  {
   "cell_type": "markdown",
   "id": "cb12916c-62e6-474e-aebd-0ae4903f4b18",
   "metadata": {},
   "source": [
    "# Make your project fantastic\n",
    "\n",
    "To conclude this post, I want to share some advice from [Jeremy Howard](https://twitter.com/jeremyphoward):\n",
    "\n",
    "> Pick one project. Do it really well. Make it fantastic.\n",
    "\n",
    "Work on one project at a time, and make sure you're proud of your work. Leverage everything you have learned so far, refactor it, document it well, and finally share it.\n",
    "\n",
    "Every one of these projects will be part of your professional portfolio. Make sure your portfolio showcases how great you are!"
   ]
  },
  {
   "cell_type": "code",
   "execution_count": null,
   "id": "70e35933-d8f1-42b9-ac10-3388ec420bb0",
   "metadata": {},
   "outputs": [],
   "source": []
  }
 ],
 "metadata": {
  "kernelspec": {
   "display_name": "Python 3 (ipykernel)",
   "language": "python",
   "name": "python3"
  },
  "language_info": {
   "codemirror_mode": {
    "name": "ipython",
    "version": 3
   },
   "file_extension": ".py",
   "mimetype": "text/x-python",
   "name": "python",
   "nbconvert_exporter": "python",
   "pygments_lexer": "ipython3",
   "version": "3.8.10"
  }
 },
 "nbformat": 4,
 "nbformat_minor": 5
}
