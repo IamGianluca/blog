{
 "cells": [
  {
   "cell_type": "raw",
   "id": "ceb5417a-81b7-4406-b389-f67b6c3a5170",
   "metadata": {
    "tags": []
   },
   "source": [
    "---\n",
    "title: \"Few-Shot Learning\"\n",
    "author: \"Gianluca Rossi\"\n",
    "date: \"April 21th, 2023\"\n",
    "format:\n",
    "    html:\n",
    "        code-fold: true\n",
    "jupyter: python3\n",
    "---"
   ]
  },
  {
   "cell_type": "markdown",
   "id": "1a4b9ce7-cc46-481e-8874-23dacebaeccc",
   "metadata": {
    "tags": []
   },
   "source": [
    "## Few-Shot Learning"
   ]
  },
  {
   "cell_type": "code",
   "execution_count": null,
   "id": "c51bb278-9771-4f6a-9af1-3c20fe31b5e3",
   "metadata": {},
   "outputs": [],
   "source": []
  }
 ],
 "metadata": {
  "kernelspec": {
   "display_name": "Python 3 (ipykernel)",
   "language": "python",
   "name": "python3"
  },
  "language_info": {
   "codemirror_mode": {
    "name": "ipython",
    "version": 3
   },
   "file_extension": ".py",
   "mimetype": "text/x-python",
   "name": "python",
   "nbconvert_exporter": "python",
   "pygments_lexer": "ipython3",
   "version": "3.8.10"
  }
 },
 "nbformat": 4,
 "nbformat_minor": 5
}
