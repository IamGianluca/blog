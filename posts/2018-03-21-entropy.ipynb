{
 "cells": [
  {
   "cell_type": "raw",
   "id": "9bfda5d1-3dae-4f41-96a0-642af37a4414",
   "metadata": {},
   "source": [
    "---\n",
    "title: \"A brief introduction about Entropy\"\n",
    "author: \"Gianluca Rossi\"\n",
    "date: \"2018-03-21\"\n",
    "categories: [information-theory]\n",
    "format:\n",
    "    html:\n",
    "        code-fold: false\n",
    "jupyter: python3\n",
    "---"
   ]
  },
  {
   "cell_type": "markdown",
   "id": "f709ec95-499b-47fc-b6e7-82ac3c192a29",
   "metadata": {},
   "source": [
    "Information Theory is a cornerstone of Machine Learning, yet most Data Science practitioners haven't been formally trained on it. This blog post is meant to give a brief introduction about entropy, a foundamental measure of uncertainty, which is used in many popular Machine Learning algorithms.\n",
    "\n",
    "> Information theory studies the quantification, storage, and communication of information. ― cit. [Wikipedia](https://en.wikipedia.org/wiki/Information_theory)\n",
    "\n",
    "Entropy is a measure of randomness or, in other words, unpredictability. The higher the entropy, the more unpredictable an outcome is. This also represents the minimum expected code length necessary to encode samples of the random variable. Intuitively, the lower the entropy, the easier is to encode a random variable.\n",
    "\n",
    "Some popular Machine Learning algorithms ― e.g. Decision Tree, Random Forest, Gradient Boosting, XGBoost ― use entropy to decide when to split a leaf into two leaves.\n",
    "\n",
    "Let's look at how entropy works using a very simple example. Let's say we are playing a game which involves extracting marbles from an urn. Marbles can be only of two colors, either red or blue. The proportion of red and blue marbles is 70%-30%. How can we measure the uncertainty of this game? Entropy, can come to our rescue.\n",
    "\n",
    "Entropy, usually represented with the letter $ H $, is mathematically defined as:\n",
    "\n",
    "$$\n",
    "\\begin{align}\n",
    "    H(X) &= \\sum_{i=1}^N P(x_i) \\log P\\left(\\frac{1}{x_i}\\right) \\\\\n",
    "    &= - \\sum_{i=1}^N P(x_i) \\log P(x_i)\n",
    "\\end{align}\n",
    "$$\n",
    "\n",
    "In our example, this would be:\n",
    "\n",
    "$$\n",
    "\\begin{align}\n",
    "    H(X) &= - \\sum_{i=1}^{2} P(x_i) \\log P(x_i) \\\\\n",
    "    &= - P(x_i=blue) \\log P(x_i=blue) - P(x_i=red) \\log P(x_i=red) \\\\\n",
    "    &= - .30 \\log 0.30 - .70 \\log 0.70 \\\\\n",
    "    &= .610864\n",
    "\\end{align}    \n",
    "$$\n",
    "\n",
    "If you find it easier to read code than maths, we could define the entropy in Python with this simple function.\n"
   ]
  },
  {
   "cell_type": "code",
   "execution_count": 1,
   "id": "34bf0595-c8f4-48c7-9efb-a86af4611631",
   "metadata": {
    "tags": []
   },
   "outputs": [],
   "source": [
    "import numpy as np\n",
    "\n",
    "def entropy(p):\n",
    "    \"\"\"Measure of randomness in Information Theory.\n",
    "\n",
    "    Args:\n",
    "        p (iterable): The probability of success.\n",
    "\n",
    "    Returns:\n",
    "        (float) The information entropy.\n",
    "    \"\"\"\n",
    "    return - np.sum([p_i * np.log(p_i) for p_i in p])"
   ]
  },
  {
   "cell_type": "markdown",
   "id": "cf166842-c70b-4d60-8039-287bc1c2639e",
   "metadata": {},
   "source": [
    "Then, we could open a Python interpreter and execute the following commands to verify the results."
   ]
  },
  {
   "cell_type": "code",
   "execution_count": 2,
   "id": "4d7a8bd8-afff-4e75-b420-6a26f3355ee9",
   "metadata": {
    "tags": []
   },
   "outputs": [
    {
     "data": {
      "text/plain": [
       "0.6108643020548935"
      ]
     },
     "execution_count": 2,
     "metadata": {},
     "output_type": "execute_result"
    }
   ],
   "source": [
    "p = [.30, .70]\n",
    "entropy(p)"
   ]
  },
  {
   "cell_type": "markdown",
   "id": "3914dc00-fe26-460e-af13-270497124967",
   "metadata": {},
   "source": [
    "We haven't yet mentioned the unit of measure of entropy, the \"bit\" (alternatively called \"shannon\"). The unit of measure of the entropy shouldn't be confused with the binary digit.\n",
    "\n",
    "> Confusion often arises because the words bit and binary digit are used interchangeably. But, within information theory, a bit and a binary digit are fundamentally different types of entities. A binary digit is a number that can adopt one of two possible values (0 or 1), whereas a bit is the maximum amount of information that can be conveyed by a binary digit. By analogy, a binary digit is like a container, whereas information is the amount of matter in the container. ― cit. [Wikipedia](https://en.wikipedia.org/wiki/Bit)\n",
    "\n",
    "It should also be noted that, when $ P(x_i) = 0 $ for some $ i $, the value of the corresponding summand $ 0 \\log(0) $ is taken to be $ 0 $.\n",
    "\n",
    "In the next blog post I'll show some applications of entropy in Machine Learning and Bayesian inference."
   ]
  }
 ],
 "metadata": {
  "kernelspec": {
   "display_name": "Python 3 (ipykernel)",
   "language": "python",
   "name": "python3"
  },
  "language_info": {
   "codemirror_mode": {
    "name": "ipython",
    "version": 3
   },
   "file_extension": ".py",
   "mimetype": "text/x-python",
   "name": "python",
   "nbconvert_exporter": "python",
   "pygments_lexer": "ipython3",
   "version": "3.8.10"
  }
 },
 "nbformat": 4,
 "nbformat_minor": 5
}
